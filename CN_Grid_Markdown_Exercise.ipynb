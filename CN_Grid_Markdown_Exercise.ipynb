{
 "cells": [
  {
   "cell_type": "markdown",
   "metadata": {},
   "source": [
    "<span><h1><center>Creating Curve Number Grid from Soil and Landuse</center></h1></span>\n",
    "<center>Prepared by <br>\n",
    "    <b>Sayan Dey and Venkatesh Merwade</b><br> \n",
    "Purdue University<br>\n",
    "FAIR Science in Water Resources<br></center>"
   ]
  },
  {
   "cell_type": "markdown",
   "metadata": {},
   "source": [
    "### Initialize PyQGIS \n",
    "This code is used for initializing PyQGIS. You only need to execute this once per session."
   ]
  },
  {
   "cell_type": "code",
   "execution_count": null,
   "metadata": {},
   "outputs": [],
   "source": [
    "import sys, os\n",
    "os.environ['QT_QPA_PLATFORM']='offscreen'\n",
    "sys.path.append('/apps/share64/debian7/anaconda/anaconda3-5.1/envs/qgis/')\n",
    "from qgis.core import *\n",
    "from qgis.analysis import QgsNativeAlgorithms\n",
    "#from qgis.utils import *\n",
    "import processing\n",
    "from processing.core.Processing import Processing \n",
    "\n",
    "qgs = QgsApplication([], False)\n",
    "qgs.initQgis()\n",
    "Processing.initialize()\n",
    "QgsApplication.processingRegistry().addProvider(QgsNativeAlgorithms()) \n",
    "\n",
    "from PyQt5.QtCore import QVariant"
   ]
  },
  {
   "cell_type": "markdown",
   "metadata": {},
   "source": [
    "### Import libraries\n",
    "For this exercise, you will need one additional library: pandas. <br>\n",
    "Note that os and sys were already imported in the previous cell"
   ]
  },
  {
   "cell_type": "code",
   "execution_count": null,
   "metadata": {},
   "outputs": [],
   "source": []
  },
  {
   "cell_type": "markdown",
   "metadata": {},
   "source": [
    "### Define path and file names for input and output\n",
    "The input files are made available to you in a public folder. The path of the public folder is: <span style=\"color:blue\"> /srv/projects/cybertrainingfair/files/public/FAIR_Data_Processing/CN_Grid   </span><br>\n",
    "It has the following files:<br>\n",
    "1) Boundary shapefile - <span style=\"color:blue\">Boundary.shp  </span><br>\n",
    "2) Soil data shapefile - <span style=\"color:blue\">Soil.shp    </span><br>\n",
    "3) Landuse raster - <span style=\"color:blue\">LU.tif    </span><br>\n",
    "4) Curve Number Lookup Table - <span style=\"color:blue\">LookUp.csv     </span><br>\n",
    "5) Landuse reclassify table - <span style=\"color:blue\">NLCD_reclass.csv    </span><br>\n",
    "Assign variables to these filenames (including the full path). You can use <span style=\"color:blue\">_os.path.join()_</span> or string operations.<br>\n",
    "Finally, define your output folder here. This is where you will store your intermediate files and final output. This should be located in your mygeohub storage space."
   ]
  },
  {
   "cell_type": "code",
   "execution_count": null,
   "metadata": {},
   "outputs": [],
   "source": []
  },
  {
   "cell_type": "markdown",
   "metadata": {},
   "source": [
    "### Check Data\n",
    "Check if geospatial input files are in the same coordinate system"
   ]
  },
  {
   "cell_type": "code",
   "execution_count": null,
   "metadata": {},
   "outputs": [],
   "source": []
  },
  {
   "cell_type": "markdown",
   "metadata": {},
   "source": [
    "### Preparing Landuse Raster \n",
    "The NLCD landuse raster contains many classes ranging from 11 to 95 as per NLCD code. We will be reclassifying these into 4 categories: Water (1), Medium Residential (2), Forest (3) and Agricultural (4). Print the NLCD_reclass.csv file to see the reclassification criterion."
   ]
  },
  {
   "cell_type": "code",
   "execution_count": null,
   "metadata": {},
   "outputs": [],
   "source": []
  },
  {
   "cell_type": "markdown",
   "metadata": {},
   "source": [
    "#### Create table layer for reclassification criterion\n",
    "The following code creates a layer containing the reclassification table using [QgsVectorLayer()](https://qgis.org/pyqgis/3.4/core/QgsVectorLayer.html#qgis.core.QgsVectorLayer) from a delimited file. This layer is required for specifying the reclassification cirterion. The text file needs to be input as a URI (Universal Resource Identifier). The URI for NLCD_reclass.csv is provided below."
   ]
  },
  {
   "cell_type": "code",
   "execution_count": null,
   "metadata": {},
   "outputs": [],
   "source": [
    "# run this cell, no change to be made\n",
    "table_uri = 'file:///srv/projects/cybertrainingfair/files/public/FAIR_Data_Processing/CN_Grid/NLCD_reclass.csv?type=csv&detectTypes=yes&geomType=none&subsetIndex=no&watchFile=no'\n",
    "table_lyr = QgsVectorLayer(table_uri, \"\", \"delimitedtext\")"
   ]
  },
  {
   "cell_type": "markdown",
   "metadata": {},
   "source": [
    "#### Reclassify landuse raster\n",
    "We will use [native:reclassifybylayer](https://docs.qgis.org/3.4/en/docs/user_manual/processing_algs/qgis/rasteranalysis.html#reclassify-by-layer) with <span style=\"color:blue\">_processing.run()_</span>. <br>\n",
    "You will need to specify the following arguments: <br>\n",
    "'INPUT_RASTER': full path to LU.tif,<br>\n",
    "'RASTER_BAND': 1, <br>\n",
    "'INPUT_TABLE': table_lyr, <br>\n",
    "'MIN_FIELD': 'min', <br>\n",
    "'MAX_FIELD': 'max', <br>\n",
    "'VALUE_FIELD': 'value' <br>\n",
    "'NO_DATA': -9999, <br>\n",
    "'RANGE_BOUNDARIES': 0, <br>\n",
    "'NODATA_FOR_MISSING': False, <br>\n",
    "'DATA_TYPE': 5, <br>\n",
    "'OUTPUT': full path to output file example: output_folder/lu_reclass_raster.tif<br>"
   ]
  },
  {
   "cell_type": "code",
   "execution_count": null,
   "metadata": {},
   "outputs": [],
   "source": [
    "processing.run(\"native:reclassifybylayer\", {\n",
    "    'INPUT_RASTER': landuse_file,'RASTER_BAND':1,\n",
    "    'INPUT_TABLE': table_lyr,\n",
    "    'MIN_FIELD':'min','MAX_FIELD':'max','VALUE_FIELD':'value',\n",
    "    'NO_DATA':-9999,'RANGE_BOUNDARIES':0,'NODATA_FOR_MISSING':False,'DATA_TYPE':5,\n",
    "    'OUTPUT': os.path.join(output_folder,\"lu_reclass_raster.tif\")})\n",
    "print(\"Landuse raster is ready!\")"
   ]
  },
  {
   "cell_type": "markdown",
   "metadata": {},
   "source": [
    "### Create Soil Raster\n",
    "Soil data is available as polygon (vector) dataset.  We convert it into raster dataset using <span style=\"color:blue\">_gdal:rasterize_</span>. We need to ensure that the soil raster has the same extent and pixel size (resolution) as the landuse raster. This is done using the \"EXTENT\" argument of <span style=\"color:blue\">_gdal:rasterize_</span>.<br>\n",
    "\n",
    "#### Creating requisite expression for EXTENT\n",
    "The EXTENT argument of <span style=\"color:blue\">_gdal:rasterize_</span> needs an expression (string) stating the west, east, south and north bounds of the raster as well as its coordinate system. The string has the syntax:<br>  \"west bound, east bound, south  bound, north bound [CRS Auth ID]\"<br> \n",
    "\n",
    "For this case, it should look like<br> '224850.725009,296730.725009,3403431.244106,3516291.244106 [EPSG:26917]'. <br>\n",
    "\n",
    "Create a raster layer for the landuse raster. From the layer's extent, extract the coordinate system and bounds to create the string shown above."
   ]
  },
  {
   "cell_type": "code",
   "execution_count": null,
   "metadata": {},
   "outputs": [],
   "source": []
  },
  {
   "cell_type": "markdown",
   "metadata": {},
   "source": [
    "#### Extracting horizontal and vertical resolution of landuse\n",
    "From the landuse layer, get its resolution in X and Y direction using <span style=\"color:blue\">rasterUnitsPerPixelX</span> and <span style=\"color:blue\">rasterUnitsPerPixelY</span> attribute."
   ]
  },
  {
   "cell_type": "code",
   "execution_count": null,
   "metadata": {},
   "outputs": [],
   "source": []
  },
  {
   "cell_type": "markdown",
   "metadata": {},
   "source": [
    "#### Converting Soil polygon to raster\n",
    "Create a vector layer for soil data.\n",
    "Use <span style=\"color:blue\">_processing.run_</span> to execute <span style=\"color:blue\">_gdal:rasterize_</span>. It has the following arguments: <br>\n",
    "'INPUT': soil layer, <br>\n",
    "'FIELD':'HSG_Index', <br>\n",
    "'BURN':None, <br>\n",
    "'UNITS':1, <br>\n",
    "'WIDTH':pixelSizeX, <br>\n",
    "'HEIGHT':pixelSizeY,  <br>\n",
    "'EXTENT': expression, <br>\n",
    "'NODATA':0, <br>\n",
    "'OPTIONS':'', <br>\n",
    "'DATA_TYPE':5, <br>\n",
    "'INIT':None, <br>\n",
    "'INVERT':False, <br>\n",
    "'OUTPUT':full path to file where output is saved <br>\n",
    "\n",
    "Hint: See how the reclassifybylayer tool has been used above."
   ]
  },
  {
   "cell_type": "code",
   "execution_count": null,
   "metadata": {},
   "outputs": [],
   "source": []
  },
  {
   "cell_type": "markdown",
   "metadata": {},
   "source": [
    "### Calculating CN for each cell\n",
    "We are going to use the <span style=\"color:blue\">_gdal:rastercalculator_</span> to calculate the CN value for each corresponding cell of soil and landuse raster. The look up table provides the CN value for each pair of soil and landuse value/category. The information in the look up table needs to be converted to a formula (string) that the raster calculator can use to create the CN raster. <br>\n",
    "\n",
    "The formula is as follows: <br>\n",
    "'100* (A==1) + 57* logical_and(A==2, B==1) + 72* logical_and(A==2,B==2) + 81* logical_and(A==2,B==3)  + 86* logical_and(A==2,B==4) + <br> \n",
    "                '30* logical_and(A==3, B==1) + 58* logical_and(A==3,B==2) + 71* logical_and(A==3,B==3)  + 78* logical_and(A==3,B==4) + <br>\n",
    "                '67* logical_and(A==4, B==1) + 77* logical_and(A==4,B==2) + 83* logical_and(A==4,B==3)  + 87* logical_and(A==4,B==4)' <br>\n",
    "\n",
    "Can you read the look up table from LookUp.csv file and parse the text to create the above string? Here A is landuse, B is soil."
   ]
  },
  {
   "cell_type": "code",
   "execution_count": null,
   "metadata": {},
   "outputs": [],
   "source": []
  },
  {
   "cell_type": "markdown",
   "metadata": {},
   "source": [
    "Finally, use the <span style=\"color:blue\">_gdal:rastercalculator_</span> to get the CN grid. It needs the following arguments (similar to reclassifybylayer tool) <br>\n",
    "'INPUT_A': full path to reclassified landuse raster, <br>\n",
    "'BAND_A':1, <br>\n",
    "'INPUT_B': full path to soil raster, <br>\n",
    "'BAND_B':1, <br>\n",
    "'FORMULA': CN formula defined above, <br>\n",
    "'NO_DATA':None, <br>\n",
    "'RTYPE':4, <br>\n",
    "'OPTIONS':'', <br>\n",
    "'OUTPUT': full path to output file, make sure the output file is a .tif file <br>"
   ]
  },
  {
   "cell_type": "code",
   "execution_count": null,
   "metadata": {},
   "outputs": [],
   "source": []
  },
  {
   "cell_type": "code",
   "execution_count": null,
   "metadata": {},
   "outputs": [],
   "source": [
    "# Exercise\n",
    "raster_file = os.path.join(output_folder, \"CN_grid.tif\") # only edit this line\n",
    "\n",
    "import geopandas as gpd\n",
    "import matplotlib.pyplot as plt\n",
    "import rasterio\n",
    "import rasterio.plot\n",
    "\n",
    "src=rasterio.open(raster_file)\n",
    "fig,ax =plt.subplots()\n",
    "rasterio.plot.show(src,ax=ax)\n",
    "fig.set_size_inches(10,10)"
   ]
  }
 ],
 "metadata": {
  "kernelspec": {
   "display_name": "Python [conda env:qgis]",
   "language": "python",
   "name": "conda-env-qgis-py"
  },
  "language_info": {
   "codemirror_mode": {
    "name": "ipython",
    "version": 3
   },
   "file_extension": ".py",
   "mimetype": "text/x-python",
   "name": "python",
   "nbconvert_exporter": "python",
   "pygments_lexer": "ipython3",
   "version": "3.8.3"
  }
 },
 "nbformat": 4,
 "nbformat_minor": 2
}
