{
 "cells": [
  {
   "cell_type": "code",
   "execution_count": null,
   "metadata": {
    "extensions": {
     "jupyter_dashboards": {
      "version": 1,
      "views": {
       "grid_default": {
        "hidden": true
       },
       "report_default": {
        "hidden": true
       }
      }
     }
    }
   },
   "outputs": [],
   "source": [
    "import numpy as np                               # vectors and matrices\n",
    "import pandas as pd                              # tables and data manipulations\n",
    "import warnings                                  # There would be no warnings \n",
    "warnings.filterwarnings('ignore')\n",
    "import hydrofunctions as hf\n",
    "# create NWIS by the information of streamflow station\n",
    "observation = hf.NWIS('03335500', 'iv', start_date='2019-01-01',end_date='2019-06-30')\n",
    "# apply function to get streamflow dataset\n",
    "observation.get_data()\n",
    "# store dataset as a dataframe\n",
    "Timeseries = observation.df()\n",
    "Timeseries.columns=[\"discharge\",\"flag\"]\n",
    "# show the first 5 result of dataframe\n",
    "Timeseries.head()\n",
    "# save the dataframe into .csv file\n",
    "Timeseries.to_csv(\"Timeseries.csv\",sep = ',')\n",
    "# resample the time series dataset from instantaneous data into daily data \n",
    "Daily = Timeseries.resample('D').mean()"
   ]
  },
  {
   "cell_type": "code",
   "execution_count": null,
   "metadata": {
    "extensions": {
     "jupyter_dashboards": {
      "version": 1,
      "views": {
       "grid_default": {
        "col": 4,
        "height": 16,
        "hidden": false,
        "row": 0,
        "width": 7
       },
       "report_default": {
        "hidden": false
       }
      }
     }
    },
    "scrolled": false
   },
   "outputs": [],
   "source": [
    "import matplotlib.pyplot as plt         \n",
    "%matplotlib inline\n",
    "# transfer the date time from string type to datetime type\n",
    "Time = pd.to_datetime(Daily.index)"
   ]
  },
  {
   "cell_type": "code",
   "execution_count": null,
   "metadata": {},
   "outputs": [],
   "source": [
    "class Exp_Smoothing:\n",
    "    \"\"\"\n",
    "    Exponential Smoothing model\n",
    "    # series - initial time series\n",
    "    # alpha  - exponential smoothing parameter\n",
    "    \"\"\"   \n",
    "    # initialize the attributes in your instance\n",
    "    def __init__(self, series, alpha):\n",
    "        self.series = series # dataset \n",
    "        self.alpha  = alpha  # parameter in model\n",
    "    \n",
    "    # function to fit the dataset with your model\n",
    "    # formula of first order exponential model is shown in tutorial\n",
    "    def exponential_smoothing(self):\n",
    "        # storing the fitting result\n",
    "        self.result = []\n",
    "        for i in range(len(self.series)):\n",
    "            # components initialization\n",
    "            if i == 0: \n",
    "                smooth = self.series[0]\n",
    "                self.result.append(self.series[0])\n",
    "                continue     \n",
    "            # fitting\n",
    "            else:\n",
    "                val_now = self.series[i-1]\n",
    "                val_pre = self.result[i-1]\n",
    "                smooth = self.alpha*val_now + (1-self.alpha)*val_pre\n",
    "                self.result.append(smooth)                "
   ]
  },
  {
   "cell_type": "code",
   "execution_count": null,
   "metadata": {},
   "outputs": [],
   "source": [
    "# initialize your exponential smoothing model\n",
    "model = Exp_Smoothing(...,...)\n",
    "# fit your model and get result of fitting\n",
    "model.(function)\n",
    "Result = model.(list name)"
   ]
  },
  {
   "cell_type": "code",
   "execution_count": null,
   "metadata": {},
   "outputs": [],
   "source": [
    "class Exp_Smoothing_Prediction:\n",
    "    \"\"\"\n",
    "    Exponential Smoothing model\n",
    "    # series  - initial time series\n",
    "    # alpha   - exponential smoothing parameter\n",
    "    # n_preds - prediction horizon\n",
    "    \"\"\"       \n",
    "    def __init__(self, series, alpha, n_preds):\n",
    "        self.series = series   #dataset\n",
    "        self.alpha  = alpha    #parameter of model\n",
    "        self.n_preds= n_preds  #length of prediction\n",
    "    def exponential_smoothing(self):\n",
    "        # storing the prediction result\n",
    "        self.result = []\n",
    "        for i in range(len(self.series)+self.n_preds):\n",
    "            # components initialization\n",
    "            if i == 0: \n",
    "                smooth = self.series[0]\n",
    "                self.result.append(self.series[0])\n",
    "                continue   \n",
    "            # predicting without available observation\n",
    "            if i >= len(self.series): \n",
    "                ...\n",
    "                \n",
    "            # predicting with observation\n",
    "            else:\n",
    "                val_obs = self.series[i-1]\n",
    "                val_pre = self.result[i-1]\n",
    "                smooth = self.alpha*val_obs + (1-self.alpha)*val_pre\n",
    "                self.result.append(smooth)                "
   ]
  },
  {
   "cell_type": "code",
   "execution_count": null,
   "metadata": {},
   "outputs": [],
   "source": [
    "from sklearn.metrics import mean_squared_error\n",
    "def Train_Score(param, series, validsize, loss_function=mean_squared_error):\n",
    "    \"\"\"\n",
    "        Returns error         \n",
    "        param   - parameter for optimization\n",
    "        series   - timeseries dataset\n",
    "        validsize- size of validation dataset\n",
    "    \"\"\"\n",
    "    values = series.values\n",
    "    alpha  = param\n",
    "    \n",
    "    return error"
   ]
  }
 ],
 "metadata": {
  "extensions": {
   "jupyter_dashboards": {
    "activeView": "grid_default",
    "version": 1,
    "views": {
     "grid_default": {
      "cellMargin": 10,
      "defaultCellHeight": 20,
      "maxColumns": 12,
      "name": "grid",
      "type": "grid"
     },
     "report_default": {
      "name": "report",
      "type": "report"
     }
    }
   }
  },
  "kernelspec": {
    "display_name": "ct-fair",
    "language": "python",
    "name": "ct-fair"
},
  "language_info": {
   "codemirror_mode": {
    "name": "ipython",
    "version": 3
   },
   "file_extension": ".py",
   "mimetype": "text/x-python",
   "name": "python",
   "nbconvert_exporter": "python",
   "pygments_lexer": "ipython3",
   "version": "3.6.5"
  }
 },
 "nbformat": 4,
 "nbformat_minor": 2
}
