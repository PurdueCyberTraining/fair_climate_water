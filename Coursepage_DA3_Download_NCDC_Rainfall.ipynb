{
 "cells": [
  {
   "cell_type": "markdown",
   "metadata": {},
   "source": [
    "Import the Libraries: cdo_api_py, pandas, datetime.\n",
    "\n",
    "Get token from NOAA website before running the code (https://www.ncdc.noaa.gov/cdo-web/token)"
   ]
  },
  {
   "cell_type": "code",
   "execution_count": null,
   "metadata": {},
   "outputs": [],
   "source": [
    "from cdo_api_py import Client\n",
    "import pandas as pd\n",
    "from datetime import datetime\n",
    "token = \"<Your Token>\"# be sure not to share your token publicly\n",
    "# Client helps you access the NCDC database with your token\n",
    "my_client = Client(token, default_units=\"None\", default_limit=1000)"
   ]
  },
  {
   "cell_type": "code",
   "execution_count": null,
   "metadata": {},
   "outputs": [],
   "source": [
    "# input of start date, end date, type of dataset, and name of gauge\n",
    "# get start and end date (YYYY/MM/DD) by function datetime(YYYY,MM,DD)\n",
    "startdate = datetime(2012, 1, 1)\n",
    "enddate   = datetime(2012, 6, 30)\n",
    "# type of download dataset: hourly precipitation\n",
    "# Use pprint(my_client.list_datasets()) to check what kind of datasetid you want to use\n",
    "datasetid = \"PRECIP_HLY\" \n",
    "gauge_id  = \"COOP:180700\" "
   ]
  },
  {
   "cell_type": "markdown",
   "metadata": {},
   "source": [
    "Download Precipitation of a specific station"
   ]
  },
  {
   "cell_type": "code",
   "execution_count": null,
   "metadata": {},
   "outputs": [],
   "source": [
    "\"\"\"\n",
    "The get_data_by_station function returns the dataframe containing the precipitation dataset you request.\n",
    "\"\"\"\n",
    "Rainfall_data = my_client.get_data_by_station(datasetid=datasetid, stationid=gauge_id,\n",
    "                startdate=startdate, enddate=enddate, return_dataframe=True,\n",
    "                include_station_meta=True) \n",
    "\n",
    "# show the first 10 rows of DataFrame\n",
    "# HPCP unit:1/100 inch (standard)\n",
    "print(Rainfall_data.head(10)) \n",
    "\n",
    "# write the dataframe into the .csv file by to_csv function with the filename\n",
    "filename = datasetid +\"_\"+ gauge_id +\".csv\"\n",
    "Rainfall_data.to_csv(filename)"
   ]
  },
  {
   "cell_type": "markdown",
   "metadata": {},
   "source": [
    "The extend is the lat, long of the target region. The gauge stations in that region would be read.\n",
    "The data type is demanded and different datatype could be found in the category of NOAA data."
   ]
  },
  {
   "cell_type": "code",
   "execution_count": null,
   "metadata": {},
   "outputs": [],
   "source": [
    "#The extend is the lat, long of the target region.\n",
    "extent = {\"north\": 39.14, \"south\": 38.68,\n",
    "          \"east\": -74.65, \"west\": -77.35}\n",
    "\n",
    "# input of start date, end date, type of dataset, and name of gauge\n",
    "startdate = datetime(2012, 1, 1)\n",
    "enddate = datetime(2012, 6, 30)\n",
    "datasetid=\"PRECIP_HLY\" "
   ]
  },
  {
   "cell_type": "markdown",
   "metadata": {},
   "source": [
    "Find the stations in the target region."
   ]
  },
  {
   "cell_type": "code",
   "execution_count": null,
   "metadata": {},
   "outputs": [],
   "source": [
    "\"\"\"\n",
    "The find_stations function returns the dataframe containing stations' info within the input extent.\n",
    "\"\"\"\n",
    "stations = my_client.find_stations(\n",
    "            datasetid=datasetid,\n",
    "            extent=extent,\n",
    "            startdate=startdate,\n",
    "            enddate=enddate,\n",
    "            return_dataframe=True)\n",
    "print(stations)"
   ]
  },
  {
   "cell_type": "markdown",
   "metadata": {},
   "source": [
    "Write a loop to download precipitation data from stations in the target region"
   ]
  }
 ],
 "metadata": {
  "kernelspec": {
   "display_name": "Python 3",
   "language": "python",
   "name": "python3"
  },
  "language_info": {
   "codemirror_mode": {
    "name": "ipython",
    "version": 3
   },
   "file_extension": ".py",
   "mimetype": "text/x-python",
   "name": "python",
   "nbconvert_exporter": "python",
   "pygments_lexer": "ipython3",
   "version": "3.6.5"
  }
 },
 "nbformat": 4,
 "nbformat_minor": 2
}
